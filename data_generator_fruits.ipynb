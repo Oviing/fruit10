{
 "cells": [
  {
   "cell_type": "code",
   "execution_count": 1,
   "metadata": {},
   "outputs": [],
   "source": [
    "import numpy as np\n",
    "import matplotlib.pyplot as plt\n",
    "import pathlib\n",
    "import os\n",
    "%matplotlib inline\n",
    "\n",
    "def load_data(path):\n",
    "    path_as_string = path\n",
    "    list_of_file_names = os.listdir(path_as_string)\n",
    "    list_with_values = []\n",
    "    count = 0\n",
    "    for path in pathlib.Path(path_as_string).iterdir():\n",
    "        if path.is_file():\n",
    "            count +=1\n",
    "    for i in range(count):\n",
    "        n = list_of_file_names[i]\n",
    "        join_path = path_as_string + '/' + n\n",
    "        img = plt.imread(join_path)\n",
    "        list_with_values.append(img)\n",
    "\n",
    "    return list_with_values\n",
    "\n",
    "def create_set(main_path, y):\n",
    "    label = []\n",
    "    data = []\n",
    "    copy_path = os.listdir(main_path)\n",
    "    for v in range(len(copy_path)):\n",
    "        n = main_path + '/' + copy_path[v]\n",
    "        loaded_data = load_data(n)\n",
    "        c = len(loaded_data)\n",
    "        label.append(c)\n",
    "        data.append(loaded_data)\n",
    "        print(copy_path[v], 'Number of images:', c)\n",
    "    y = np.full(sum(label), y)\n",
    "    X = data[0]\n",
    "    for i in range(1, len(data)):\n",
    "        X = np.concatenate((X, data[i]), axis = 0)\n",
    "\n",
    "    return X, y\n",
    "\n",
    "def collector(path):\n",
    "    p = os.listdir(path)\n",
    "    label_number = 0\n",
    "    for i in range(len(p)):\n",
    "        directory = path + '/' + p[i]\n",
    "        if os.path.isdir(directory):\n",
    "            \n",
    "            X_set, y_set = create_set(directory, label_number)\n",
    "            label_number = label_number + 1\n",
    "            if i == 0:\n",
    "                X = X_set\n",
    "                y = y_set\n",
    "            else:\n",
    "                X = np.concatenate((X, X_set), axis = 0)\n",
    "                y = np.concatenate((y, y_set), axis = 0)\n",
    "        else:\n",
    "            continue\n",
    "    return X, y"
   ]
  },
  {
   "cell_type": "code",
   "execution_count": 6,
   "metadata": {},
   "outputs": [
    {
     "name": "stdout",
     "output_type": "stream",
     "text": [
      "Apple Red Delicious Number of images: 490\n",
      "Apple Golden 2 Number of images: 492\n",
      "Apple Red 1 Number of images: 492\n",
      "Apple Golden 3 Number of images: 481\n",
      "Apple Red Yellow 1 Number of images: 492\n",
      "Apple Braeburn Number of images: 492\n",
      "Apple Crimson Snow Number of images: 444\n",
      "Apple Granny Smith Number of images: 492\n",
      "Apple Pink Lady Number of images: 456\n",
      "Apple Golden 1 Number of images: 480\n",
      "Apple Red 2 Number of images: 492\n",
      "Apple Red Yellow 2 Number of images: 672\n",
      "Apple Red 3 Number of images: 429\n",
      "Pear Red Number of images: 666\n",
      "Pear Number of images: 492\n",
      "Pear Stone Number of images: 711\n",
      "Pear Monster Number of images: 490\n",
      "Pear Kaiser Number of images: 300\n",
      "Pear Williams Number of images: 490\n",
      "Pear Abate Number of images: 490\n",
      "Pear 2 Number of images: 696\n",
      "Pear Forelle Number of images: 702\n",
      "Potato Red Washed Number of images: 453\n",
      "Potato Sweet Number of images: 450\n",
      "Potato White Number of images: 450\n",
      "Potato Red Number of images: 450\n",
      "Plum Number of images: 447\n",
      "Plum 3 Number of images: 900\n",
      "Plum 2 Number of images: 420\n",
      "Cherry 1 Number of images: 492\n",
      "Cherry Wax Yellow Number of images: 492\n",
      "Cherry Rainier Number of images: 738\n",
      "Cherry Wax Black Number of images: 492\n",
      "Cherry 2 Number of images: 738\n",
      "Cherry Wax Red Number of images: 492\n",
      "Banana Lady Finger Number of images: 450\n",
      "Banana Red Number of images: 490\n",
      "Banana Number of images: 490\n",
      "Grape Pink Number of images: 492\n",
      "Grape White Number of images: 490\n",
      "Grape White 2 Number of images: 490\n",
      "Grape White 4 Number of images: 471\n",
      "Grape White 3 Number of images: 492\n",
      "Grape Blue Number of images: 984\n",
      "Pepper Red Number of images: 666\n",
      "Pepper Yellow Number of images: 666\n",
      "Pepper Orange Number of images: 702\n",
      "Pepper Green Number of images: 444\n",
      "Tomato 4 Number of images: 479\n",
      "Tomato 3 Number of images: 738\n",
      "Tomato 2 Number of images: 672\n",
      "Tomato Yellow Number of images: 459\n",
      "Tomato Maroon Number of images: 367\n",
      "Tomato 1 Number of images: 738\n",
      "Tomato Heart Number of images: 684\n",
      "Tomato not Ripened Number of images: 474\n",
      "Tomato Cherry Red Number of images: 492\n",
      "Peach 2 Number of images: 738\n",
      "Peach Number of images: 492\n",
      "Peach Flat Number of images: 492\n"
     ]
    }
   ],
   "source": [
    "X, y = collector('//Users/joel/Desktop/fruits_10')"
   ]
  },
  {
   "cell_type": "code",
   "execution_count": null,
   "metadata": {},
   "outputs": [],
   "source": [
    "#class_names = ['Apple', 'Pear', 'Potato', 'Plum', 'Cherry',\n",
    "             #  'Banana', 'Grape', 'Pepper', 'Tomato', 'Peach']"
   ]
  },
  {
   "cell_type": "code",
   "execution_count": 7,
   "metadata": {},
   "outputs": [
    {
     "data": {
      "text/plain": [
       "array([0, 1, 2, 3, 4, 5, 6, 7, 8, 9])"
      ]
     },
     "execution_count": 7,
     "metadata": {},
     "output_type": "execute_result"
    }
   ],
   "source": [
    "np.unique(y)"
   ]
  },
  {
   "cell_type": "code",
   "execution_count": 3,
   "metadata": {},
   "outputs": [],
   "source": [
    "#shuffle\n",
    "#np.random.seed(seed = 42)\n",
    "#randomize = np.arange(len(X))\n",
    "#np.random.shuffle(randomize)\n",
    "#X = X[randomize]\n",
    "#y = y[randomize]"
   ]
  },
  {
   "cell_type": "code",
   "execution_count": 8,
   "metadata": {},
   "outputs": [],
   "source": [
    "np.savez_compressed(os.path.join('/Users/joel/Desktop/fruits_10', 'train_set.npz'), X=X, y=y)"
   ]
  },
  {
   "cell_type": "code",
   "execution_count": null,
   "metadata": {},
   "outputs": [],
   "source": []
  },
  {
   "cell_type": "code",
   "execution_count": null,
   "metadata": {},
   "outputs": [],
   "source": []
  }
 ],
 "metadata": {
  "kernelspec": {
   "display_name": "Python 3",
   "language": "python",
   "name": "python3"
  },
  "language_info": {
   "codemirror_mode": {
    "name": "ipython",
    "version": 3
   },
   "file_extension": ".py",
   "mimetype": "text/x-python",
   "name": "python",
   "nbconvert_exporter": "python",
   "pygments_lexer": "ipython3",
   "version": "3.7.7"
  }
 },
 "nbformat": 4,
 "nbformat_minor": 4
}
